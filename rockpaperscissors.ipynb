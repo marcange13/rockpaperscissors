{
 "cells": [
  {
   "cell_type": "code",
   "execution_count": 1,
   "id": "9bf18024-1516-4302-889d-cb3eaf1ae173",
   "metadata": {},
   "outputs": [
    {
     "name": "stdin",
     "output_type": "stream",
     "text": [
      "Enter your choice (rock, paper, or scissors):  rock\n"
     ]
    },
    {
     "name": "stdout",
     "output_type": "stream",
     "text": [
      "Computer chose: scissors\n",
      "You chose: rock\n",
      "You win!\n"
     ]
    }
   ],
   "source": [
    "import random\n",
    "\n",
    "def play_rock_paper_scissors():\n",
    "    \"\"\"Plays rock-paper-scissors with the computer.\"\"\"\n",
    "\n",
    "    options = [\"rock\", \"paper\", \"scissors\"]\n",
    "    computer_choice = random.choice(options)\n",
    "\n",
    "    while True:\n",
    "        player_choice = input(\"Enter your choice (rock, paper, or scissors): \").lower()\n",
    "        if player_choice in options:\n",
    "            break\n",
    "        else:\n",
    "            print(\"Invalid input. Please choose rock, paper, or scissors.\")\n",
    "\n",
    "    print(f\"Computer chose: {computer_choice}\")\n",
    "    print(f\"You chose: {player_choice}\")\n",
    "\n",
    "    if player_choice == computer_choice:\n",
    "        print(\"It's a tie!\")\n",
    "    elif (\n",
    "        (player_choice == \"rock\" and computer_choice == \"scissors\")\n",
    "        or (player_choice == \"paper\" and computer_choice == \"rock\")\n",
    "        or (player_choice == \"scissors\" and computer_choice == \"paper\")\n",
    "    ):\n",
    "        print(\"You win!\")\n",
    "    else:\n",
    "        print(\"Computer wins!\")\n",
    "\n",
    "if __name__ == \"__main__\":\n",
    "    play_rock_paper_scissors()"
   ]
  }
 ],
 "metadata": {
  "kernelspec": {
   "display_name": "Python [conda env:base] *",
   "language": "python",
   "name": "conda-base-py"
  },
  "language_info": {
   "codemirror_mode": {
    "name": "ipython",
    "version": 3
   },
   "file_extension": ".py",
   "mimetype": "text/x-python",
   "name": "python",
   "nbconvert_exporter": "python",
   "pygments_lexer": "ipython3",
   "version": "3.12.7"
  }
 },
 "nbformat": 4,
 "nbformat_minor": 5
}
